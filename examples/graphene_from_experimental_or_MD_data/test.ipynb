{
 "cells": [
  {
   "cell_type": "markdown",
   "metadata": {
    "collapsed": true
   },
   "source": [
    "## A simple Python notebook to calculate electronic properties of graphene"
   ]
  },
  {
   "cell_type": "code",
   "execution_count": 53,
   "metadata": {
    "collapsed": true
   },
   "outputs": [],
   "source": [
    "#load useful package \n",
    "import sys\n",
    "from time import time\n",
    "import numpy as np\n",
    "import scipy.sparse as sparse\n",
    "from numpy import linalg as LA\n",
    "\n",
    "# for plotting \n",
    "import matplotlib.pyplot as plt\n",
    "import seaborn as sns\n",
    "sys.path.append(\"../../src/\")\n",
    "\n",
    "#load package \n",
    "from lattice import Lattice\n",
    "from tightbinding import TightBinding"
   ]
  },
  {
   "cell_type": "markdown",
   "metadata": {},
   "source": [
    "First create lattice object then create model object"
   ]
  },
  {
   "cell_type": "code",
   "execution_count": 52,
   "metadata": {
    "collapsed": true
   },
   "outputs": [],
   "source": [
    "lat1 = Lattice([0, 0, 0], pbc=False) # We don't need to specify the unit lattice as we specify atomic positions based on MD simulations (non periodic). \n",
    "lat1.getFromDataFile(\"graphene.txt\") # load atomic configurations \n",
    "lat1.getParametersFromDataFile(\"graphene_constants.txt\") #load graphene constants \n",
    "model = TightBinding(lat1) #create tight-binding model object "
   ]
  },
  {
   "cell_type": "markdown",
   "metadata": {},
   "source": [
    "Construct Hamiltonian : find nearest neighbors and construct Hamiltonian "
   ]
  },
  {
   "cell_type": "code",
   "execution_count": 3,
   "metadata": {},
   "outputs": [
    {
     "name": "stdout",
     "output_type": "stream",
     "text": [
      "Finding neighbor(s): [####################] 100% DONE\n",
      "find NearestNeighbors time: 37.796 s\n",
      "Constructing Hamiltonian: [####################] 100% DONE\n",
      "construct Hamiltonian time: 8.365 s\n",
      "..ALL jobs are DONE!!..\n"
     ]
    }
   ],
   "source": [
    "model.createHamiltonian() "
   ]
  },
  {
   "cell_type": "markdown",
   "metadata": {},
   "source": [
    "Next, find eigenvalues and eigen vectors of Hamiltonian (named model.H)"
   ]
  },
  {
   "cell_type": "code",
   "execution_count": 31,
   "metadata": {},
   "outputs": [],
   "source": [
    "vals, vecs = LA.eig(model.H) \n",
    "e = vals.real"
   ]
  },
  {
   "cell_type": "markdown",
   "metadata": {},
   "source": [
    "Plot DOS of graphene (histogram of energy). \n",
    "Note that DOS should become like infinite lattice as we increase the size of graphene. The zero energies correspond edge atoms."
   ]
  },
  {
   "cell_type": "code",
   "execution_count": 55,
   "metadata": {},
   "outputs": [
    {
     "data": {
      "image/png": "[encoded data removed]",
      "text/plain": [
       "<matplotlib.figure.Figure at 0x124398710>"
      ]
     },
     "metadata": {},
     "output_type": "display_data"
    }
   ],
   "source": [
    "plt.hist(e, bins=100, color='b')\n",
    "plt.xlabel('Energy (eV)')\n",
    "plt.ylabel('DOS')\n",
    "plt.show()"
   ]
  },
  {
   "cell_type": "code",
   "execution_count": null,
   "metadata": {
    "collapsed": true
   },
   "outputs": [],
   "source": []
  }
 ],
 "metadata": {
  "kernelspec": {
   "display_name": "Python 3",
   "language": "python",
   "name": "python3"
  },
  "language_info": {
   "codemirror_mode": {
    "name": "ipython",
    "version": 3
   },
   "file_extension": ".py",
   "mimetype": "text/x-python",
   "name": "python",
   "nbconvert_exporter": "python",
   "pygments_lexer": "ipython3",
   "version": "3.6.1"
  }
 },
 "nbformat": 4,
 "nbformat_minor": 2
}
